{
 "cells": [
  {
   "cell_type": "markdown",
   "metadata": {},
   "source": [
    "# Author"
   ]
  },
  {
   "cell_type": "markdown",
   "metadata": {},
   "source": [
    "Ronen H"
   ]
  },
  {
   "cell_type": "markdown",
   "metadata": {},
   "source": [
    "# Import Libraries"
   ]
  },
  {
   "cell_type": "code",
   "execution_count": 1,
   "metadata": {},
   "outputs": [],
   "source": [
    "import os\n",
    "from tqdm import tqdm\n",
    "import orjson\n",
    "import pandas as pd\n",
    "import matplotlib.pyplot as plt"
   ]
  },
  {
   "cell_type": "markdown",
   "metadata": {},
   "source": [
    "# Chapters of the Bible Statistics"
   ]
  },
  {
   "cell_type": "code",
   "execution_count": 2,
   "metadata": {},
   "outputs": [],
   "source": [
    "num_old_testament_verses = []\n",
    "num_old_testament_chapters = 0"
   ]
  },
  {
   "cell_type": "code",
   "execution_count": 3,
   "metadata": {},
   "outputs": [
    {
     "name": "stderr",
     "output_type": "stream",
     "text": [
      "929it [00:00, 16826.92it/s]\n"
     ]
    }
   ],
   "source": [
    "with open('bible_data/old_testament.jsonl', 'rb') as old_testament_file:\n",
    "    for bible_chapter_line in tqdm(old_testament_file):\n",
    "        num_old_testament_chapters += 1\n",
    "        bible_chapter = orjson.loads(bible_chapter_line)\n",
    "        num_old_testament_verses.append(bible_chapter['num_verses'])"
   ]
  },
  {
   "cell_type": "code",
   "execution_count": 4,
   "metadata": {},
   "outputs": [],
   "source": [
    "num_new_testament_verses = []\n",
    "num_new_testament_chapters = 0"
   ]
  },
  {
   "cell_type": "code",
   "execution_count": 5,
   "metadata": {},
   "outputs": [
    {
     "name": "stderr",
     "output_type": "stream",
     "text": [
      "260it [00:00, 15849.19it/s]\n"
     ]
    }
   ],
   "source": [
    "with open('bible_data/new_testament.jsonl', 'rb') as new_testament_file:\n",
    "    for bible_chapter_line in tqdm(new_testament_file):\n",
    "        num_new_testament_chapters += 1\n",
    "        bible_chapter = orjson.loads(bible_chapter_line)\n",
    "        num_new_testament_verses.append(bible_chapter['num_verses'])"
   ]
  },
  {
   "cell_type": "code",
   "execution_count": 6,
   "metadata": {},
   "outputs": [],
   "source": [
    "total_verses = num_old_testament_verses.copy()\n",
    "total_verses.extend(num_new_testament_verses)\n",
    "total_chapters = num_old_testament_chapters + num_new_testament_chapters"
   ]
  },
  {
   "cell_type": "code",
   "execution_count": 7,
   "metadata": {},
   "outputs": [],
   "source": [
    "if not os.path.isdir('bible_basic_statistics'):\n",
    "    os.mkdir('bible_basic_statistics')"
   ]
  },
  {
   "cell_type": "code",
   "execution_count": 8,
   "metadata": {},
   "outputs": [
    {
     "data": {
      "text/html": [
       "<div>\n",
       "<style scoped>\n",
       "    .dataframe tbody tr th:only-of-type {\n",
       "        vertical-align: middle;\n",
       "    }\n",
       "\n",
       "    .dataframe tbody tr th {\n",
       "        vertical-align: top;\n",
       "    }\n",
       "\n",
       "    .dataframe thead th {\n",
       "        text-align: right;\n",
       "    }\n",
       "</style>\n",
       "<table border=\"1\" class=\"dataframe\">\n",
       "  <thead>\n",
       "    <tr style=\"text-align: right;\">\n",
       "      <th></th>\n",
       "      <th>Statistic</th>\n",
       "      <th>Value</th>\n",
       "    </tr>\n",
       "  </thead>\n",
       "  <tbody>\n",
       "    <tr>\n",
       "      <th>0</th>\n",
       "      <td>Total - Number of Chapters</td>\n",
       "      <td>1189.000000</td>\n",
       "    </tr>\n",
       "    <tr>\n",
       "      <th>1</th>\n",
       "      <td>Total - Number of Verses</td>\n",
       "      <td>31102.000000</td>\n",
       "    </tr>\n",
       "    <tr>\n",
       "      <th>2</th>\n",
       "      <td>Total - Number of Verses Per Chapter</td>\n",
       "      <td>26.158116</td>\n",
       "    </tr>\n",
       "    <tr>\n",
       "      <th>3</th>\n",
       "      <td>Old Testament - Number of Chapters</td>\n",
       "      <td>929.000000</td>\n",
       "    </tr>\n",
       "    <tr>\n",
       "      <th>4</th>\n",
       "      <td>Old Testament - Number of Verses</td>\n",
       "      <td>23145.000000</td>\n",
       "    </tr>\n",
       "    <tr>\n",
       "      <th>5</th>\n",
       "      <td>Old Testament - Number of Verses Per Chapter</td>\n",
       "      <td>24.913886</td>\n",
       "    </tr>\n",
       "    <tr>\n",
       "      <th>6</th>\n",
       "      <td>New Testament - Number of Chapters</td>\n",
       "      <td>260.000000</td>\n",
       "    </tr>\n",
       "    <tr>\n",
       "      <th>7</th>\n",
       "      <td>New Testament - Number of Verses</td>\n",
       "      <td>7957.000000</td>\n",
       "    </tr>\n",
       "    <tr>\n",
       "      <th>8</th>\n",
       "      <td>New Testament - Number of Verses Per Chapter</td>\n",
       "      <td>30.603846</td>\n",
       "    </tr>\n",
       "  </tbody>\n",
       "</table>\n",
       "</div>"
      ],
      "text/plain": [
       "                                      Statistic         Value\n",
       "0                    Total - Number of Chapters   1189.000000\n",
       "1                      Total - Number of Verses  31102.000000\n",
       "2          Total - Number of Verses Per Chapter     26.158116\n",
       "3            Old Testament - Number of Chapters    929.000000\n",
       "4              Old Testament - Number of Verses  23145.000000\n",
       "5  Old Testament - Number of Verses Per Chapter     24.913886\n",
       "6            New Testament - Number of Chapters    260.000000\n",
       "7              New Testament - Number of Verses   7957.000000\n",
       "8  New Testament - Number of Verses Per Chapter     30.603846"
      ]
     },
     "execution_count": 8,
     "metadata": {},
     "output_type": "execute_result"
    }
   ],
   "source": [
    "basic_stats_df = pd.DataFrame({'Statistic': ['Total - Number of Chapters', 'Total - Number of Verses', 'Total - Number of Verses Per Chapter',\n",
    "                                             'Old Testament - Number of Chapters', 'Old Testament - Number of Verses', 'Old Testament - Number of Verses Per Chapter',\n",
    "                                             'New Testament - Number of Chapters', 'New Testament - Number of Verses', 'New Testament - Number of Verses Per Chapter'],\n",
    "                               'Value': [total_chapters, sum(total_verses), sum(total_verses) / total_chapters,\n",
    "                                         num_old_testament_chapters, sum(num_old_testament_verses), sum(num_old_testament_verses) / num_old_testament_chapters,\n",
    "                                         num_new_testament_chapters, sum(num_new_testament_verses), sum(num_new_testament_verses) / num_new_testament_chapters]})\n",
    "basic_stats_df.to_csv('bible_basic_statistics/chapter_statistics.csv', index=None)\n",
    "basic_stats_df"
   ]
  },
  {
   "cell_type": "markdown",
   "metadata": {},
   "source": [
    "# Relevance Score Distribution"
   ]
  },
  {
   "cell_type": "code",
   "execution_count": 9,
   "metadata": {},
   "outputs": [
    {
     "data": {
      "image/png": "[encoded data removed]",
      "text/plain": [
       "<Figure size 640x480 with 1 Axes>"
      ]
     },
     "metadata": {},
     "output_type": "display_data"
    }
   ],
   "source": [
    "train_queries_df = pd.read_csv('bible_queries_relevances/train_queries_relevances.csv')\n",
    "train_queries_df['relevance'].hist(bins=[0.5, 1.5, 2.5, 3.5, 4.5, 5.5], edgecolor='black')\n",
    "plt.xlabel('Relevance Score')\n",
    "plt.ylabel('Count')\n",
    "plt.title('Distribution of Train Relevance Scores')\n",
    "plt.savefig('bible_basic_statistics/train_rel_scores_dist.jpg', dpi=500, bbox_inches='tight')\n",
    "plt.show()"
   ]
  },
  {
   "cell_type": "code",
   "execution_count": 10,
   "metadata": {},
   "outputs": [
    {
     "data": {
      "image/png": "[encoded data removed]",
      "text/plain": [
       "<Figure size 640x480 with 1 Axes>"
      ]
     },
     "metadata": {},
     "output_type": "display_data"
    }
   ],
   "source": [
    "test_queries_df = pd.read_csv('bible_queries_relevances/test_queries_relevances.csv')\n",
    "test_queries_df['relevance'].hist(bins=[0.5, 1.5, 2.5, 3.5, 4.5, 5.5], edgecolor='black')\n",
    "plt.xlabel('Relevance Score')\n",
    "plt.ylabel('Count')\n",
    "plt.title('Distribution of Test Relevance Scores')\n",
    "plt.savefig('bible_basic_statistics/test_rel_scores_dist.jpg', dpi=500, bbox_inches='tight')\n",
    "plt.show()"
   ]
  }
 ],
 "metadata": {
  "kernelspec": {
   "display_name": "Python 3",
   "language": "python",
   "name": "python3"
  },
  "language_info": {
   "codemirror_mode": {
    "name": "ipython",
    "version": 3
   },
   "file_extension": ".py",
   "mimetype": "text/x-python",
   "name": "python",
   "nbconvert_exporter": "python",
   "pygments_lexer": "ipython3",
   "version": "3.11.7"
  }
 },
 "nbformat": 4,
 "nbformat_minor": 2
}
